{
 "cells": [
  {
   "cell_type": "code",
   "execution_count": 1,
   "id": "212d0d78",
   "metadata": {},
   "outputs": [],
   "source": [
    "#load Libraries\n",
    "import os\n",
    "import cv2 #opencv library\n",
    "import numpy as np\n",
    "import matplotlib.pyplot as plt\n",
    "from sklearn.model_selection import train_test_split\n",
    "from tensorflow.keras.models import Sequential\n",
    "from tensorflow.keras.layers import Conv2D, MaxPooling2D, Flatten, Dense\n",
    "from tensorflow.keras.optimizers import Adam\n",
    "from tensorflow.keras.preprocessing.image import ImageDataGenerator"
   ]
  },
  {
   "cell_type": "code",
   "execution_count": 2,
   "id": "b036b98d",
   "metadata": {},
   "outputs": [],
   "source": [
    "#Load the data\n",
    "test_dataset_path = \"C:/Users/lenovo/Desktop/CNN/Testing_data\"\n",
    "training_dataset_path = \"C:/Users/lenovo/Desktop/CNN/Training_data\""
   ]
  },
  {
   "cell_type": "code",
   "execution_count": null,
   "id": "3ef82970",
   "metadata": {},
   "outputs": [],
   "source": [
    "# from PIL import Image\n",
    "# from pillow_heif import register_heif_opener"
   ]
  },
  {
   "cell_type": "code",
   "execution_count": null,
   "id": "e5c24e3e",
   "metadata": {},
   "outputs": [],
   "source": [
    "# register_heif_opener()"
   ]
  },
  {
   "cell_type": "code",
   "execution_count": null,
   "id": "d8045afd",
   "metadata": {},
   "outputs": [],
   "source": [
    "# heic_list = []\n",
    "# for folder in os.listdir(training_dataset_path):\n",
    "#     folder_path = os.path.join(training_dataset_path, folder)\n",
    "#     for file_name in os.listdir(folder_path):\n",
    "#         heic_list.append(folder_path + '/' + file_name)\n",
    "# print(heic_list)"
   ]
  },
  {
   "cell_type": "code",
   "execution_count": null,
   "id": "5627554e",
   "metadata": {},
   "outputs": [],
   "source": [
    "# for image in heic_list:\n",
    "#     temp_photo = Image.open(image)\n",
    "#     temp = image.replace('.heic', '.jpeg')\n",
    "#     temp_photo.save(temp)   "
   ]
  },
  {
   "cell_type": "code",
   "execution_count": 3,
   "id": "8dc8237a",
   "metadata": {},
   "outputs": [],
   "source": [
    "#Make list of images\n",
    "training_data_list_crack = [] #training data list for crack images\n",
    "training_data_list_no_crack = [] # training data list for no_crack images\n",
    "for folder in os.listdir(training_dataset_path):\n",
    "    folder_path = os.path.join(training_dataset_path, folder)\n",
    "    for file_name in os.listdir(folder_path):\n",
    "        if folder == \"Crack\":\n",
    "            training_data_list_crack.append(folder_path + '/' + file_name) #If folder name reads as crack \n",
    "        else:\n",
    "            training_data_list_no_crack.append(folder_path + '/' + file_name) #If folder name reads as no_crack\n",
    "\n",
    "testing_data_list_crack = [] #testing data list for crack images\n",
    "testing_data_list_no_crack = [] ##testing data list for no_crack images\n",
    "for folder in os.listdir(test_dataset_path):\n",
    "    folder_path = os.path.join(test_dataset_path, folder)\n",
    "    for file_name in os.listdir(folder_path):\n",
    "        if folder == \"Crack\":\n",
    "            testing_data_list_crack.append(folder_path + '/' + file_name) #If folder name reads as crack\n",
    "        else:\n",
    "            testing_data_list_no_crack.append(folder_path + '/' + file_name) #If folder name reads as no_crack"
   ]
  },
  {
   "cell_type": "code",
   "execution_count": 4,
   "id": "12681168",
   "metadata": {},
   "outputs": [],
   "source": [
    "#Resize all iamges and label the images 1 for crack and 0 for no_crack for training data\n",
    "img_size = 300\n",
    "train_data = []\n",
    "train_labels = []\n",
    "for image in training_data_list_crack:\n",
    "    img = cv2.imread(image, cv2.IMREAD_GRAYSCALE) #read the images from dataset we made earlier\n",
    "    img1 = cv2.resize(img, (img_size, img_size)) #resize the images by image size provided\n",
    "    train_data.append(img1) #adding resized image to training data\n",
    "    train_labels.append(1) #add to the list of labels in crack dataset\n",
    "for image in training_data_list_no_crack:\n",
    "    img = cv2.imread(image, cv2.IMREAD_GRAYSCALE)\n",
    "    img1 = cv2.resize(img, (img_size, img_size))\n",
    "    train_data.append(img1)\n",
    "    train_labels.append(0) #add to the list of labels in no_crack dataset"
   ]
  },
  {
   "cell_type": "code",
   "execution_count": 5,
   "id": "b23c87ce",
   "metadata": {},
   "outputs": [],
   "source": [
    "#Resize all iamges and label the images 1 for crack and 0 for no_crack for testing data\n",
    "img_size = 300\n",
    "test_data = []\n",
    "test_labels = []\n",
    "for image in testing_data_list_crack:\n",
    "    img = cv2.imread(image, cv2.IMREAD_GRAYSCALE) #read the images from dataset we made earlier\n",
    "    img1 = cv2.resize(img, (img_size, img_size)) #resize the images by image size provided \n",
    "    test_data.append(img1) #adding resized image to training data\n",
    "    test_labels.append(1) #add to the list of labels in crack dataset\n",
    "for image in testing_data_list_no_crack:\n",
    "    img = cv2.imread(image, cv2.IMREAD_GRAYSCALE)\n",
    "    img1 = cv2.resize(img, (img_size, img_size))\n",
    "    test_data.append(img1)\n",
    "    test_labels.append(0) #add to the list of labels in no_crack dataset"
   ]
  },
  {
   "cell_type": "code",
   "execution_count": 6,
   "id": "94f7741b",
   "metadata": {},
   "outputs": [],
   "source": [
    "#Normalize the images for training and testing data \n",
    "train_data = np.array(train_data).reshape(-1, img_size, img_size, 1) / 255.0\n",
    "train_labels = np.array(train_labels)\n",
    "test_data = np.array(test_data).reshape(-1, img_size, img_size, 1) / 255.0\n",
    "ground_truth = np.array(test_labels) #reference for the reality"
   ]
  },
  {
   "cell_type": "code",
   "execution_count": 7,
   "id": "c4bb70f5",
   "metadata": {},
   "outputs": [],
   "source": [
    "#Split the training data into train and validation  sets\n",
    "train_data, validate_data, train_labels, validate_labels = train_test_split(train_data, train_labels, test_size=0.2) #20% validation data"
   ]
  },
  {
   "cell_type": "code",
   "execution_count": 8,
   "id": "423a0e52",
   "metadata": {},
   "outputs": [],
   "source": [
    "# perform data augmentation to increase the size of the data\n",
    "train_datagen = ImageDataGenerator() #Increse the size of dataset for better training of the model\n",
    "train_generator = train_datagen.flow(train_data,train_labels,batch_size=40) #create batches to feed the model"
   ]
  },
  {
   "cell_type": "code",
   "execution_count": 9,
   "id": "de7f40f9",
   "metadata": {},
   "outputs": [],
   "source": [
    "#Create CNN model \n",
    "model = Sequential([\n",
    "    Conv2D(30, (3, 3), activation='relu', input_shape=(img_size, img_size, 1)), \n",
    "    MaxPooling2D((2, 2)),\n",
    "    Conv2D(50, (3, 3), activation='relu'),\n",
    "    MaxPooling2D((2, 2)),\n",
    "    Flatten(),\n",
    "    Dense(50, activation='relu'),\n",
    "    Dense(1, activation='sigmoid')\n",
    "])"
   ]
  },
  {
   "cell_type": "code",
   "execution_count": 10,
   "id": "d7550061",
   "metadata": {},
   "outputs": [
    {
     "name": "stdout",
     "output_type": "stream",
     "text": [
      "Epoch 1/20\n",
      "7/7 [==============================] - 9s 1s/step - loss: 1.9958 - accuracy: 0.5056 - val_loss: 0.5951 - val_accuracy: 0.7353\n",
      "Epoch 2/20\n",
      "7/7 [==============================] - 8s 1s/step - loss: 0.6420 - accuracy: 0.6580 - val_loss: 0.5528 - val_accuracy: 0.7353\n",
      "Epoch 3/20\n",
      "7/7 [==============================] - 9s 1s/step - loss: 0.5891 - accuracy: 0.6580 - val_loss: 0.5684 - val_accuracy: 0.7353\n",
      "Epoch 4/20\n",
      "7/7 [==============================] - 9s 1s/step - loss: 0.5348 - accuracy: 0.6580 - val_loss: 0.5121 - val_accuracy: 0.8088\n",
      "Epoch 5/20\n",
      "7/7 [==============================] - 8s 1s/step - loss: 0.4794 - accuracy: 0.7435 - val_loss: 0.5042 - val_accuracy: 0.8088\n",
      "Epoch 6/20\n",
      "7/7 [==============================] - 9s 1s/step - loss: 0.4358 - accuracy: 0.7584 - val_loss: 0.4843 - val_accuracy: 0.8382\n",
      "Epoch 7/20\n",
      "7/7 [==============================] - 9s 1s/step - loss: 0.3797 - accuracy: 0.8401 - val_loss: 0.4706 - val_accuracy: 0.8088\n",
      "Epoch 8/20\n",
      "7/7 [==============================] - 9s 1s/step - loss: 0.3356 - accuracy: 0.8662 - val_loss: 0.5108 - val_accuracy: 0.7794\n",
      "Epoch 9/20\n",
      "7/7 [==============================] - 8s 1s/step - loss: 0.2943 - accuracy: 0.8662 - val_loss: 0.5683 - val_accuracy: 0.7941\n",
      "Epoch 10/20\n",
      "7/7 [==============================] - 9s 1s/step - loss: 0.2845 - accuracy: 0.9294 - val_loss: 0.6319 - val_accuracy: 0.7353\n",
      "Epoch 11/20\n",
      "7/7 [==============================] - 10s 1s/step - loss: 0.2826 - accuracy: 0.8848 - val_loss: 0.5712 - val_accuracy: 0.7500\n",
      "Epoch 12/20\n",
      "7/7 [==============================] - 9s 1s/step - loss: 0.2700 - accuracy: 0.9219 - val_loss: 0.5805 - val_accuracy: 0.7647\n",
      "Epoch 13/20\n",
      "7/7 [==============================] - 9s 1s/step - loss: 0.2615 - accuracy: 0.9331 - val_loss: 0.5127 - val_accuracy: 0.7941\n",
      "Epoch 14/20\n",
      "7/7 [==============================] - 9s 1s/step - loss: 0.2494 - accuracy: 0.9777 - val_loss: 0.6922 - val_accuracy: 0.7647\n",
      "Epoch 15/20\n",
      "7/7 [==============================] - 10s 1s/step - loss: 0.2471 - accuracy: 0.9740 - val_loss: 0.5683 - val_accuracy: 0.7794\n",
      "Epoch 16/20\n",
      "7/7 [==============================] - 10s 1s/step - loss: 0.2405 - accuracy: 0.9888 - val_loss: 0.5206 - val_accuracy: 0.7941\n",
      "Epoch 17/20\n",
      "7/7 [==============================] - 9s 1s/step - loss: 0.2406 - accuracy: 0.9740 - val_loss: 0.5151 - val_accuracy: 0.7941\n",
      "Epoch 18/20\n",
      "7/7 [==============================] - 9s 1s/step - loss: 0.2357 - accuracy: 0.9926 - val_loss: 0.6896 - val_accuracy: 0.7941\n",
      "Epoch 19/20\n",
      "7/7 [==============================] - 10s 1s/step - loss: 0.2333 - accuracy: 0.9851 - val_loss: 0.6287 - val_accuracy: 0.7941\n",
      "Epoch 20/20\n",
      "7/7 [==============================] - 10s 1s/step - loss: 0.2305 - accuracy: 0.9888 - val_loss: 0.7917 - val_accuracy: 0.7500\n"
     ]
    }
   ],
   "source": [
    "#Train the model\n",
    "model.compile(optimizer='adam', loss='binary_crossentropy', metrics = 'accuracy')\n",
    "history = model.fit(train_generator, epochs=20,validation_data=(validate_data, validate_labels)) #Fitting the model"
   ]
  },
  {
   "cell_type": "code",
   "execution_count": 11,
   "id": "da3254f0",
   "metadata": {},
   "outputs": [
    {
     "name": "stdout",
     "output_type": "stream",
     "text": [
      "5/5 [==============================] - 1s 232ms/step - loss: 1.1865 - accuracy: 0.6849\n",
      "Test loss: 1.1865465641021729\n",
      "Test accuracy: 0.6849315166473389\n"
     ]
    }
   ],
   "source": [
    "#Test CNN model on the test dataset\n",
    "test_loss, test_acc = model.evaluate(test_data, ground_truth)\n",
    "print(f'Test loss: {test_loss}')\n",
    "print(f'Test accuracy: {test_acc}')"
   ]
  },
  {
   "cell_type": "code",
   "execution_count": 12,
   "id": "ff9a536c",
   "metadata": {
    "scrolled": false
   },
   "outputs": [
    {
     "data": {
      "text/plain": [
       "<matplotlib.legend.Legend at 0x2e9e2379930>"
      ]
     },
     "execution_count": 12,
     "metadata": {},
     "output_type": "execute_result"
    },
    {
     "data": {
      "image/png": "[encoded data removed]",
      "text/plain": [
       "<Figure size 640x480 with 1 Axes>"
      ]
     },
     "metadata": {},
     "output_type": "display_data"
    }
   ],
   "source": [
    "#Plot the training and validation loss and accuracy per epoch\n",
    "plt.plot(history.history['loss'], label='training loss')\n",
    "plt.plot(history.history['val_loss'], label='validation loss')\n",
    "plt.plot(history.history['accuracy'], label='accuracy')\n",
    "plt.plot(history.history['val_accuracy'], label='validation accuracy')\n",
    "plt.legend()"
   ]
  }
 ],
 "metadata": {
  "kernelspec": {
   "display_name": "Python 3 (ipykernel)",
   "language": "python",
   "name": "python3"
  },
  "language_info": {
   "codemirror_mode": {
    "name": "ipython",
    "version": 3
   },
   "file_extension": ".py",
   "mimetype": "text/x-python",
   "name": "python",
   "nbconvert_exporter": "python",
   "pygments_lexer": "ipython3",
   "version": "3.10.11"
  }
 },
 "nbformat": 4,
 "nbformat_minor": 5
}
